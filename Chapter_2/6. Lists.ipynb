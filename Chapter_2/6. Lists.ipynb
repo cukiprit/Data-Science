{
 "cells": [
  {
   "cell_type": "markdown",
   "id": "89af1c63",
   "metadata": {},
   "source": [
    "The most fundamental data structure in Python is list, which is simply an ordered collection"
   ]
  },
  {
   "cell_type": "code",
   "execution_count": 3,
   "id": "a6cd329b",
   "metadata": {},
   "outputs": [
    {
     "name": "stdout",
     "output_type": "stream",
     "text": [
      "3\n",
      "6\n"
     ]
    }
   ],
   "source": [
    "int_list = [1,2,3]\n",
    "heterogeneous_list = [\"string\", 0.1, True]\n",
    "list_of_lists = [int_list, heterogeneous_list, []]\n",
    "\n",
    "list_length = len(list_of_lists)\n",
    "list_sum = sum(int_list)\n",
    "\n",
    "print(list_length)\n",
    "print(list_sum)"
   ]
  },
  {
   "cell_type": "markdown",
   "id": "9018b7ce",
   "metadata": {},
   "source": [
    "We can get or set the nth element of list with square brackets"
   ]
  },
  {
   "cell_type": "code",
   "execution_count": 4,
   "id": "a940de3f",
   "metadata": {},
   "outputs": [],
   "source": [
    "x = [0,1,2,3,4,5,6,7,8,9]\n",
    "\n",
    "zero = x[0]\n",
    "one = x[1]\n",
    "nine = x[-1]\n",
    "eight = x[-2]\n",
    "x[0] = x[2] - x[3]"
   ]
  },
  {
   "cell_type": "markdown",
   "id": "9ecfe77a",
   "metadata": {},
   "source": [
    "We can also use square brackets to slice lists. The slice i:j means all elements from i (inclusive) to j (not inclusive). If we leave off the start of the slice, you'll slice from the beginning. if we leave the end of slice, we'll slice until the end of list"
   ]
  },
  {
   "cell_type": "code",
   "execution_count": 5,
   "id": "c6e2db60",
   "metadata": {},
   "outputs": [
    {
     "name": "stdout",
     "output_type": "stream",
     "text": [
      "[-1, 1, 2]\n",
      "[3, 4, 5, 6, 7, 8, 9]\n",
      "[1, 2, 3, 4]\n",
      "[7, 8, 9]\n",
      "[1, 2, 3, 4, 5, 6, 7, 8]\n",
      "[-1, 1, 2, 3, 4, 5, 6, 7, 8, 9]\n"
     ]
    }
   ],
   "source": [
    "first_three = x[:3]\n",
    "three_to_end = x[3:]\n",
    "one_to_four = x[1:5]\n",
    "last_three = x[-3:]\n",
    "without_first_and_last = x[1:-1]\n",
    "copy_of_x = x[:]\n",
    "\n",
    "print(first_three)\n",
    "print(three_to_end)\n",
    "print(one_to_four)\n",
    "print(last_three)\n",
    "print(without_first_and_last)\n",
    "print(copy_of_x)"
   ]
  },
  {
   "cell_type": "markdown",
   "id": "0428830c",
   "metadata": {},
   "source": [
    "We can similarly slicce strings and other \"sequential\" types. A slice can take a third argument to indicate stride, which can be negative"
   ]
  },
  {
   "cell_type": "code",
   "execution_count": 6,
   "id": "0cf2d81e",
   "metadata": {},
   "outputs": [
    {
     "name": "stdout",
     "output_type": "stream",
     "text": [
      "[-1, 3, 6, 9]\n",
      "[5, 4, 3]\n"
     ]
    }
   ],
   "source": [
    "every_third = x[::3]\n",
    "five_to_three = x[5:2:-1]\n",
    "\n",
    "print(every_third)\n",
    "print(five_to_three)"
   ]
  },
  {
   "cell_type": "code",
   "execution_count": 7,
   "id": "ccd897c0",
   "metadata": {},
   "outputs": [
    {
     "name": "stdout",
     "output_type": "stream",
     "text": [
      "True\n",
      "False\n"
     ]
    }
   ],
   "source": [
    "# Python has an in operator to check list\n",
    "print(1 in [1,2,3,4,5])\n",
    "print(0 in [2,3,4,5,7])"
   ]
  },
  {
   "cell_type": "markdown",
   "id": "cb40e8cc",
   "metadata": {},
   "source": [
    "If we want to modify a list in place, we can use extend to add items from another collections"
   ]
  },
  {
   "cell_type": "code",
   "execution_count": 8,
   "id": "a73374ef",
   "metadata": {},
   "outputs": [
    {
     "data": {
      "text/plain": [
       "[1, 2, 3, 4, 5, 6]"
      ]
     },
     "execution_count": 8,
     "metadata": {},
     "output_type": "execute_result"
    }
   ],
   "source": [
    "x = [1,2,3]\n",
    "x.extend([4,5,6])\n",
    "\n",
    "x"
   ]
  },
  {
   "cell_type": "markdown",
   "id": "9e77cc53",
   "metadata": {},
   "source": [
    "If we won't to modify x, we can use list adition"
   ]
  },
  {
   "cell_type": "code",
   "execution_count": 9,
   "id": "f27aaa23",
   "metadata": {},
   "outputs": [
    {
     "name": "stdout",
     "output_type": "stream",
     "text": [
      "[1, 2, 3]\n",
      "[1, 2, 3, 4, 5, 6]\n"
     ]
    }
   ],
   "source": [
    "x = [1,2,3]\n",
    "y = x + [4,5,6]\n",
    "\n",
    "print(x)\n",
    "print(y)"
   ]
  },
  {
   "cell_type": "markdown",
   "id": "b8682108",
   "metadata": {},
   "source": [
    "More frequently we will append append to lists one item at a time"
   ]
  },
  {
   "cell_type": "code",
   "execution_count": 10,
   "id": "59d9648d",
   "metadata": {},
   "outputs": [
    {
     "name": "stdout",
     "output_type": "stream",
     "text": [
      "[1, 2, 3, 0]\n"
     ]
    }
   ],
   "source": [
    "x = [1,2,3]\n",
    "x.append(0)\n",
    "\n",
    "print(x)"
   ]
  },
  {
   "cell_type": "markdown",
   "id": "39176c70",
   "metadata": {},
   "source": [
    "It's often convenient to unpack lists when we know how many elements"
   ]
  },
  {
   "cell_type": "code",
   "execution_count": 12,
   "id": "89c4f5b3",
   "metadata": {},
   "outputs": [
    {
     "name": "stdout",
     "output_type": "stream",
     "text": [
      "100\n",
      "0.2\n"
     ]
    }
   ],
   "source": [
    "x, y = [100, 0.2]\n",
    "\n",
    "print(x)\n",
    "print(y)"
   ]
  },
  {
   "cell_type": "markdown",
   "id": "37455edf",
   "metadata": {},
   "source": [
    "Although we will get a ValueError if we didn't have the same number of elements on both sides. A common idiom is to use an underscore for a value you're going to throw away"
   ]
  },
  {
   "cell_type": "code",
   "execution_count": 13,
   "id": "59ba1c21",
   "metadata": {},
   "outputs": [
    {
     "name": "stdout",
     "output_type": "stream",
     "text": [
      "2\n",
      "3\n"
     ]
    }
   ],
   "source": [
    "_, y, z = [1, 2, 3] # Now y == 2 and z == 3, didn't care about first element\n",
    "\n",
    "print(y)\n",
    "print(z)"
   ]
  }
 ],
 "metadata": {
  "kernelspec": {
   "display_name": "Python 3",
   "language": "python",
   "name": "python3"
  },
  "language_info": {
   "codemirror_mode": {
    "name": "ipython",
    "version": 3
   },
   "file_extension": ".py",
   "mimetype": "text/x-python",
   "name": "python",
   "nbconvert_exporter": "python",
   "pygments_lexer": "ipython3",
   "version": "3.9.0"
  }
 },
 "nbformat": 4,
 "nbformat_minor": 5
}
