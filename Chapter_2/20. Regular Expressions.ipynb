{
 "cells": [
  {
   "cell_type": "markdown",
   "id": "b3b4c7fb",
   "metadata": {},
   "source": [
    "Regular expressions provide a way of searching text. They are incredibly useful, but also fairly complicated. We'll get into their details the few times we encounter them"
   ]
  },
  {
   "cell_type": "code",
   "execution_count": 1,
   "id": "4ea55476",
   "metadata": {},
   "outputs": [
    {
     "name": "stdout",
     "output_type": "stream",
     "text": [
      "True\n"
     ]
    }
   ],
   "source": [
    "import re\n",
    "\n",
    "re_example = [\n",
    "    not re.match(\"a\", \"cat\"),\n",
    "    re.search(\"a\", \"cat\"),\n",
    "    not re.search(\"c\", \"dog\"),\n",
    "    3 == len(re.split(\"[ab]\", \"carbs\")),\n",
    "    \"R-D-\" == re.sub(\"[0-9]\", \"-\", \"R2D2\")\n",
    "]\n",
    "\n",
    "print(all(re_example))"
   ]
  },
  {
   "cell_type": "markdown",
   "id": "3b388a0d",
   "metadata": {},
   "source": [
    "- ```not re.match(\"a\", \"cat\")``` return ```True``` because 'cat' doesn't start with 'a'\n",
    "- ```re.search(\"a\", \"cat\")``` return ```True``` because 'cat' has an 'a' in it\n",
    "- ```not re.search(\"c\", \"dog\")``` return ```True``` because dog doesn't have a 'c' in it\n",
    "- ```3 == len(re.split(\"[ab]\", \"carbs\"))``` return ```True``` because it split a or b to ```[c, r, s]``` and the length is equals 3\n",
    "- ```\"R-D-\" == re.sub(\"[0-9]\", \"-\", \"R2D2\")``` return ```True``` because it will replace R2D2 to R-D-"
   ]
  }
 ],
 "metadata": {
  "kernelspec": {
   "display_name": "Python 3",
   "language": "python",
   "name": "python3"
  },
  "language_info": {
   "codemirror_mode": {
    "name": "ipython",
    "version": 3
   },
   "file_extension": ".py",
   "mimetype": "text/x-python",
   "name": "python",
   "nbconvert_exporter": "python",
   "pygments_lexer": "ipython3",
   "version": "3.9.0"
  }
 },
 "nbformat": 4,
 "nbformat_minor": 5
}
