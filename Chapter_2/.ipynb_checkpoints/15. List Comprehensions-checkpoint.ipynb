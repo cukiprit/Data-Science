{
 "cells": [
  {
   "cell_type": "markdown",
   "id": "410b57ad",
   "metadata": {},
   "source": [
    "Frequently, we want to transform a list into another list by choosing only certain elements, by transforming elements, or both. The Pythonic way to do this is with list comprehensions"
   ]
  },
  {
   "cell_type": "code",
   "execution_count": 1,
   "id": "ba162938",
   "metadata": {},
   "outputs": [
    {
     "name": "stdout",
     "output_type": "stream",
     "text": [
      "[0, 2, 4, 6, 8]\n",
      "[0, 1, 4, 9, 16, 25, 36, 49, 64, 81]\n",
      "[0, 4, 16, 36, 64]\n"
     ]
    }
   ],
   "source": [
    "even_numbers = [x for x in range(10) if x % 2 == 0] # [0, 2, 4, 6, 8]\n",
    "squares = [x * x for x in range(10)] # [0, 1, 4, 9, 16, 25, 36, 49, 64, 81]\n",
    "even_squares = [x * x for x in even_numbers] # [0, 4, 16, 36, 64]\n",
    "\n",
    "print(even_numbers)\n",
    "print(squares)\n",
    "print(even_squares)"
   ]
  },
  {
   "cell_type": "markdown",
   "id": "0ebf3610",
   "metadata": {},
   "source": [
    "We can similarly turn lists into dictionaries or sets"
   ]
  },
  {
   "cell_type": "code",
   "execution_count": 3,
   "id": "a6719763",
   "metadata": {},
   "outputs": [
    {
     "name": "stdout",
     "output_type": "stream",
     "text": [
      "{0: 0, 1: 1, 2: 4, 3: 9, 4: 16, 5: 25, 6: 36, 7: 49, 8: 64, 9: 81}\n",
      "{0, 1, 64, 4, 36, 9, 16, 49, 81, 25}\n"
     ]
    }
   ],
   "source": [
    "square_dict = {x: x * x for x in range(10)}\n",
    "square_set = {x * x for x in [0, 1, 2, 3, 4, 5, 6, 7, 8, 9]}\n",
    "\n",
    "print(square_dict)\n",
    "print(square_set)"
   ]
  },
  {
   "cell_type": "markdown",
   "id": "ce52bea0",
   "metadata": {},
   "source": [
    "If we don't need the value from the list, it's common to use an underscore as the variable"
   ]
  },
  {
   "cell_type": "code",
   "execution_count": 5,
   "id": "ad70ade6",
   "metadata": {},
   "outputs": [
    {
     "name": "stdout",
     "output_type": "stream",
     "text": [
      "[0, 0, 0, 0, 0]\n"
     ]
    }
   ],
   "source": [
    "zeros = [0 for _ in even_numbers]\n",
    "\n",
    "print(zeros)"
   ]
  },
  {
   "cell_type": "markdown",
   "id": "1d5ebf70",
   "metadata": {},
   "source": [
    "A list comprehension can include multiple for"
   ]
  },
  {
   "cell_type": "code",
   "execution_count": 7,
   "id": "49a63a94",
   "metadata": {},
   "outputs": [
    {
     "name": "stdout",
     "output_type": "stream",
     "text": [
      "[(0, 1), (0, 2), (0, 3), (0, 4), (0, 5), (0, 6), (0, 7), (0, 8), (0, 9), (1, 2), (1, 3), (1, 4), (1, 5), (1, 6), (1, 7), (1, 8), (1, 9), (2, 3), (2, 4), (2, 5), (2, 6), (2, 7), (2, 8), (2, 9), (3, 4), (3, 5), (3, 6), (3, 7), (3, 8), (3, 9), (4, 5), (4, 6), (4, 7), (4, 8), (4, 9), (5, 6), (5, 7), (5, 8), (5, 9), (6, 7), (6, 8), (6, 9), (7, 8), (7, 9), (8, 9)]\n"
     ]
    }
   ],
   "source": [
    "pairs = [(x, y)\n",
    "         for x in range(20)\n",
    "         for y in range(x + 1, 10)]\n",
    "\n",
    "print(pairs)"
   ]
  }
 ],
 "metadata": {
  "kernelspec": {
   "display_name": "Python 3",
   "language": "python",
   "name": "python3"
  },
  "language_info": {
   "codemirror_mode": {
    "name": "ipython",
    "version": 3
   },
   "file_extension": ".py",
   "mimetype": "text/x-python",
   "name": "python",
   "nbconvert_exporter": "python",
   "pygments_lexer": "ipython3",
   "version": "3.9.0"
  }
 },
 "nbformat": 4,
 "nbformat_minor": 5
}
