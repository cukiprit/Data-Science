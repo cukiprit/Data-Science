{
 "cells": [
  {
   "cell_type": "markdown",
   "id": "3e994d9d",
   "metadata": {},
   "source": [
    "Often we will need to zip two or more iterables together. The zip function transforms multiple iterables into a single iterable of tuples of corresponding function"
   ]
  },
  {
   "cell_type": "code",
   "execution_count": 1,
   "id": "f2ecb7cf",
   "metadata": {},
   "outputs": [
    {
     "name": "stdout",
     "output_type": "stream",
     "text": [
      "[('a', 1), ('b', 2), ('c', 3)]\n"
     ]
    }
   ],
   "source": [
    "list1 = ['a', 'b', 'c']\n",
    "list2 = [1, 2, 3]\n",
    "\n",
    "# zip is lazy, so we have to do something like the following\n",
    "print([pair for pair in zip(list1, list2)])"
   ]
  },
  {
   "cell_type": "markdown",
   "id": "7a0b391b",
   "metadata": {},
   "source": [
    "If the lists are different lengths, zip stops as soon as the first list ends. We can also \"unzip\" a list using a strange trick"
   ]
  },
  {
   "cell_type": "code",
   "execution_count": 2,
   "id": "c725ad42",
   "metadata": {},
   "outputs": [
    {
     "name": "stdout",
     "output_type": "stream",
     "text": [
      "('a', 'b', 'c', 'd')\n",
      "(1, 2, 3, 4)\n"
     ]
    }
   ],
   "source": [
    "pairs = [('a', 1), ('b', 2), ('c', 3), ('d', 4)]\n",
    "letters, numbers = zip(*pairs)\n",
    "\n",
    "print(letters)\n",
    "print(numbers)"
   ]
  },
  {
   "cell_type": "markdown",
   "id": "f5b02c06",
   "metadata": {},
   "source": [
    "The asterisk (*) performs argument unpacking, which uses the elements of pairs as individual arguments to zip. It ends up the same as if we'd called"
   ]
  },
  {
   "cell_type": "code",
   "execution_count": 3,
   "id": "f6075e0c",
   "metadata": {},
   "outputs": [
    {
     "name": "stdout",
     "output_type": "stream",
     "text": [
      "('a', 'b', 'c', 'd')\n",
      "(1, 2, 3, 4)\n"
     ]
    }
   ],
   "source": [
    "letters, numbers = zip(('a', 1), ('b', 2), ('c', 3), ('d', 4))\n",
    "\n",
    "print(letters)\n",
    "print(numbers)"
   ]
  },
  {
   "cell_type": "markdown",
   "id": "5b2cc2e1",
   "metadata": {},
   "source": [
    "We can use argument unpacking with any function"
   ]
  },
  {
   "cell_type": "code",
   "execution_count": 4,
   "id": "182b4a38",
   "metadata": {},
   "outputs": [
    {
     "name": "stdout",
     "output_type": "stream",
     "text": [
      "fungsi add seharusnya memiliki 2 inputs\n"
     ]
    },
    {
     "data": {
      "text/plain": [
       "3"
      ]
     },
     "execution_count": 4,
     "metadata": {},
     "output_type": "execute_result"
    }
   ],
   "source": [
    "def add(a, b): return a + b\n",
    "\n",
    "add(1,2)\n",
    "\n",
    "try:\n",
    "    add([1,2])\n",
    "except TypeError:\n",
    "    print(\"fungsi add seharusnya memiliki 2 inputs\")\n",
    "add(*[1,2])"
   ]
  }
 ],
 "metadata": {
  "kernelspec": {
   "display_name": "Python 3",
   "language": "python",
   "name": "python3"
  },
  "language_info": {
   "codemirror_mode": {
    "name": "ipython",
    "version": 3
   },
   "file_extension": ".py",
   "mimetype": "text/x-python",
   "name": "python",
   "nbconvert_exporter": "python",
   "pygments_lexer": "ipython3",
   "version": "3.9.0"
  }
 },
 "nbformat": 4,
 "nbformat_minor": 5
}
