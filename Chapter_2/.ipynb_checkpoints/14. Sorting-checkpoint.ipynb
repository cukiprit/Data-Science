{
 "cells": [
  {
   "cell_type": "markdown",
   "id": "b755f666",
   "metadata": {},
   "source": [
    "Every Python list has a sort method that sorts it in place. If you don't want to mess up your list, you can use the sorted function, which returns a new list"
   ]
  },
  {
   "cell_type": "code",
   "execution_count": 2,
   "id": "a2cc51b8",
   "metadata": {},
   "outputs": [
    {
     "name": "stdout",
     "output_type": "stream",
     "text": [
      "[4, 1, 3, 2]\n",
      "[1, 2, 3, 4]\n",
      "[1, 2, 3, 4]\n"
     ]
    }
   ],
   "source": [
    "x = [4, 1, 3, 2]\n",
    "y = sorted(x)\n",
    "print(x)\n",
    "x.sort()\n",
    "\n",
    "print(x)\n",
    "print(y)"
   ]
  },
  {
   "cell_type": "markdown",
   "id": "ba24f436",
   "metadata": {},
   "source": [
    "By default, sort/sorted sort a list from smallest to largest based on naively comparing the elements to one another. If we want elements sorted from largest to smallest, you can specify a reverse=True parameter and instead of comparing the elements themselves, you can compare the results of a function that you specify with key"
   ]
  },
  {
   "cell_type": "code",
   "execution_count": 4,
   "id": "2c204adb",
   "metadata": {},
   "outputs": [
    {
     "data": {
      "text/plain": [
       "[92222034810481048, -100, 47, 23, 10, 8, 6, 3, 2, -1]"
      ]
     },
     "execution_count": 4,
     "metadata": {},
     "output_type": "execute_result"
    }
   ],
   "source": [
    "# Sorted the list by absolute value from largest to smallest\n",
    "x = sorted([-100, 92222034810481048, 2, -1, 3, 6, 8, 10, 23, 47],\n",
    "           key=abs, reverse=True)\n",
    "\n",
    "x"
   ]
  },
  {
   "cell_type": "code",
   "execution_count": null,
   "id": "795c84bf",
   "metadata": {},
   "outputs": [],
   "source": [
    "# Sort the words and counts from highest count to lowest\n",
    "wc = sorted(word_counts.items(),\n",
    "            key=lambda word_and_count: word_and_count[1],\n",
    "            reverse=True)"
   ]
  }
 ],
 "metadata": {
  "kernelspec": {
   "display_name": "Python 3",
   "language": "python",
   "name": "python3"
  },
  "language_info": {
   "codemirror_mode": {
    "name": "ipython",
    "version": 3
   },
   "file_extension": ".py",
   "mimetype": "text/x-python",
   "name": "python",
   "nbconvert_exporter": "python",
   "pygments_lexer": "ipython3",
   "version": "3.9.0"
  }
 },
 "nbformat": 4,
 "nbformat_minor": 5
}
