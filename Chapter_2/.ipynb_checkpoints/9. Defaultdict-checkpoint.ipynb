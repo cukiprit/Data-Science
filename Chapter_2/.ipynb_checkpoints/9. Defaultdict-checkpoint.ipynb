{
 "cells": [
  {
   "cell_type": "markdown",
   "id": "6fe61c08",
   "metadata": {},
   "source": [
    "If we're trying to count the words in a document. An obvious approach\n",
    "is to create dictionary in which the keys are words and the values are counts"
   ]
  },
  {
   "cell_type": "code",
   "execution_count": null,
   "id": "5f2a4aed",
   "metadata": {},
   "outputs": [],
   "source": [
    "word_counts = {}\n",
    "for word in document:\n",
    "    if word in word_counts:\n",
    "        word_counts[word] += 1\n",
    "    else:\n",
    "        word_counts[word] = 1"
   ]
  },
  {
   "cell_type": "markdown",
   "id": "f3c75854",
   "metadata": {},
   "source": [
    "We could also use the \"forgiveness is better than permission\" approach and just handle the exception from trying to look up a missing key"
   ]
  },
  {
   "cell_type": "code",
   "execution_count": null,
   "id": "ea4fc265",
   "metadata": {},
   "outputs": [],
   "source": [
    "word_counts = {}\n",
    "for word in document:\n",
    "    try:\n",
    "        word_counts[word] += 1\n",
    "    except KeyError:\n",
    "        word_counts[word] = 1"
   ]
  },
  {
   "cell_type": "markdown",
   "id": "47561d91",
   "metadata": {},
   "source": [
    "The third approach is to use get, which behaves gracefully for missing key"
   ]
  },
  {
   "cell_type": "code",
   "execution_count": null,
   "id": "2f94474f",
   "metadata": {},
   "outputs": [],
   "source": [
    "word_counts = {}\n",
    "for word in document:\n",
    "    previous_count = word_counts.get(word, 0)\n",
    "    word_counts[word] = previous_count + 1"
   ]
  },
  {
   "cell_type": "markdown",
   "id": "501abb93",
   "metadata": {},
   "source": [
    "A defaultdict is like a regular dictionary, except when we try to look up a key it doesn't contain, it first adds a value for it using a zero-argument function we provided. In order to use defaultdicts, we have to import them from collections"
   ]
  },
  {
   "cell_type": "code",
   "execution_count": null,
   "id": "7712774a",
   "metadata": {},
   "outputs": [],
   "source": [
    "from collections import defaultdict\n",
    "\n",
    "word_counts = defaultdict(int) # int() produces 0\n",
    "for word in document:\n",
    "    word_counts[word] += 1"
   ]
  },
  {
   "cell_type": "markdown",
   "id": "977699af",
   "metadata": {},
   "source": [
    "They can be also be useful with list or dict or even our own functions"
   ]
  },
  {
   "cell_type": "code",
   "execution_count": 2,
   "id": "6bb9d9a0",
   "metadata": {},
   "outputs": [
    {
     "name": "stdout",
     "output_type": "stream",
     "text": [
      "defaultdict(<class 'list'>, {2: [1]})\n",
      "defaultdict(<class 'dict'>, {'Dika': {'kota': 'Madiun'}})\n",
      "defaultdict(<function <lambda> at 0x000001243A413940>, {2: [0, 1]})\n"
     ]
    }
   ],
   "source": [
    "from collections import defaultdict\n",
    "\n",
    "dd_list = defaultdict(list) # list() produces an empty list\n",
    "dd_list[2].append(1) # now dd_list contains {2: [1]}\n",
    "\n",
    "dd_dict = defaultdict(dict) # dict() produces an empty dict\n",
    "dd_dict[\"Dika\"][\"kota\"] = \"Madiun\" # {\"Dika\": {\"kota\": \"Madiun\"}}\n",
    "\n",
    "dd_pair = defaultdict(lambda: [0, 0])\n",
    "dd_pair[2][1] = 1 # now dd_pair contains {2: [0, 1]}\n",
    "\n",
    "print(dd_list)\n",
    "print(dd_dict)\n",
    "print(dd_pair)"
   ]
  },
  {
   "cell_type": "markdown",
   "id": "8043ff55",
   "metadata": {},
   "source": [
    "These will be useful when we're using dictionaries to \"collect\" results by some key and don't want to have to check every time to see if the key exists yet"
   ]
  }
 ],
 "metadata": {
  "kernelspec": {
   "display_name": "Python 3",
   "language": "python",
   "name": "python3"
  },
  "language_info": {
   "codemirror_mode": {
    "name": "ipython",
    "version": 3
   },
   "file_extension": ".py",
   "mimetype": "text/x-python",
   "name": "python",
   "nbconvert_exporter": "python",
   "pygments_lexer": "ipython3",
   "version": "3.9.0"
  }
 },
 "nbformat": 4,
 "nbformat_minor": 5
}
