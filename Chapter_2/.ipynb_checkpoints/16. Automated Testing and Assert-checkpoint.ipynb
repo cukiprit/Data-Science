{
 "cells": [
  {
   "cell_type": "code",
   "execution_count": 4,
   "id": "1ce2e68b",
   "metadata": {},
   "outputs": [],
   "source": [
    "assert 1 + 1 == 2\n",
    "assert 1 + 1 == 2, \"1 + 1 seharusnya 2\""
   ]
  },
  {
   "cell_type": "markdown",
   "id": "20bb30b2",
   "metadata": {},
   "source": [
    "As we can see in the second case, we can optionally add a message to be printed if the assertion fails. It's not particularly interesting to assert that 1 + 1 = 2. What's more interesting is to assert that functions we write are doing what we expect them to"
   ]
  },
  {
   "cell_type": "code",
   "execution_count": 5,
   "id": "855bfa88",
   "metadata": {},
   "outputs": [],
   "source": [
    "def smallest_item(x):\n",
    "    return min(x)\n",
    "\n",
    "assert smallest_item([10, 2, 3, 78, 2]) == 2\n",
    "assert smallest_item([0, 2, 30, -1, 100]) == -1"
   ]
  },
  {
   "cell_type": "markdown",
   "id": "348ce405",
   "metadata": {},
   "source": [
    "Another less common use is to assert things about inputs to functions"
   ]
  },
  {
   "cell_type": "code",
   "execution_count": 6,
   "id": "5ad57590",
   "metadata": {},
   "outputs": [],
   "source": [
    "def smallest_item(x):\n",
    "    assert x, \"list kosong tidak memiliki item\"\n",
    "    return min(x)"
   ]
  }
 ],
 "metadata": {
  "kernelspec": {
   "display_name": "Python 3",
   "language": "python",
   "name": "python3"
  },
  "language_info": {
   "codemirror_mode": {
    "name": "ipython",
    "version": 3
   },
   "file_extension": ".py",
   "mimetype": "text/x-python",
   "name": "python",
   "nbconvert_exporter": "python",
   "pygments_lexer": "ipython3",
   "version": "3.9.0"
  }
 },
 "nbformat": 4,
 "nbformat_minor": 5
}
