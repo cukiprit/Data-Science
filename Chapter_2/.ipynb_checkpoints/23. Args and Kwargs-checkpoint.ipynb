{
 "cells": [
  {
   "cell_type": "markdown",
   "id": "678b054c",
   "metadata": {},
   "source": [
    "Let's say we want to create a higher-order function that takes as input some function f and reaturns a new function that for any input returns twice the value of f"
   ]
  },
  {
   "cell_type": "code",
   "execution_count": 1,
   "id": "7c96d712",
   "metadata": {},
   "outputs": [],
   "source": [
    "def doubler(f):\n",
    "    # Here we define a new function that keeps a references to f\n",
    "    def g(x):\n",
    "        return 2 * f(x)\n",
    "    # and return a new function\n",
    "    return g"
   ]
  },
  {
   "cell_type": "markdown",
   "id": "b8a85c3b",
   "metadata": {},
   "source": [
    "This also works for some cases"
   ]
  },
  {
   "cell_type": "code",
   "execution_count": 2,
   "id": "4b9b0d14",
   "metadata": {},
   "outputs": [
    {
     "name": "stdout",
     "output_type": "stream",
     "text": [
      "8\n",
      "0\n"
     ]
    }
   ],
   "source": [
    "def f1(x):\n",
    "    return x + 1\n",
    "\n",
    "g = doubler(f1)\n",
    "\n",
    "print(g(3))\n",
    "print(g(-1))"
   ]
  },
  {
   "cell_type": "markdown",
   "id": "ce3b9405",
   "metadata": {},
   "source": [
    "However, it doesn't work with functions that take more than a single arguments"
   ]
  },
  {
   "cell_type": "code",
   "execution_count": 3,
   "id": "fb27f937",
   "metadata": {},
   "outputs": [
    {
     "name": "stdout",
     "output_type": "stream",
     "text": [
      "g hanya menerima 1 argument\n"
     ]
    }
   ],
   "source": [
    "def f2(x, y):\n",
    "    return x + y\n",
    "\n",
    "g = doubler(f2)\n",
    "try:\n",
    "    g(1,2)\n",
    "except TypeError:\n",
    "    print(\"g hanya menerima 1 argument\")"
   ]
  },
  {
   "cell_type": "markdown",
   "id": "1d58ce15",
   "metadata": {},
   "source": [
    "What we need is a way to specify a function that takes arbitary arguments. We can do this with argument unpacking"
   ]
  },
  {
   "cell_type": "code",
   "execution_count": 4,
   "id": "cbdf9b8f",
   "metadata": {},
   "outputs": [
    {
     "name": "stdout",
     "output_type": "stream",
     "text": [
      "unnamed args: (1, 2)\n",
      "keyword args: {'key': 'word', 'key2': 'word2'}\n",
      "None\n"
     ]
    }
   ],
   "source": [
    "def magic(*args, **kwargs):\n",
    "    print(f\"unnamed args: {args}\")\n",
    "    print(f\"keyword args: {kwargs}\")\n",
    "    \n",
    "print(magic(1, 2, key=\"word\", key2=\"word2\"))"
   ]
  },
  {
   "cell_type": "markdown",
   "id": "ac604ac3",
   "metadata": {},
   "source": [
    "That is, when we define a function like this, args is a tuple of its unnamed argumetns and kwargs is a dict of its named arguments. It works the other way too, if we want to use a list or tuple and dict to supply arguments to a function"
   ]
  },
  {
   "cell_type": "code",
   "execution_count": 2,
   "id": "ecce0dd1",
   "metadata": {},
   "outputs": [
    {
     "name": "stdout",
     "output_type": "stream",
     "text": [
      "6\n"
     ]
    }
   ],
   "source": [
    "def other_magic(x, y, z):\n",
    "    return x + y + z\n",
    "\n",
    "x_y_list = [1, 2]\n",
    "z_dict = {\"z\": 3}\n",
    "\n",
    "print(other_magic(*x_y_list, **z_dict))"
   ]
  },
  {
   "cell_type": "markdown",
   "id": "7640bdf2",
   "metadata": {},
   "source": [
    "We could do all sorts of strange tricks with this. We will only use it to produce higher-order functions whose inputs can accpet arbitrary arguments"
   ]
  },
  {
   "cell_type": "code",
   "execution_count": 7,
   "id": "5c6518dc",
   "metadata": {},
   "outputs": [
    {
     "name": "stdout",
     "output_type": "stream",
     "text": [
      "14\n"
     ]
    }
   ],
   "source": [
    "def doubler_correct(f):\n",
    "    \"\"\"Works no matter what kind of inputs f expects\"\"\"\n",
    "    def g(*args, **kwargs):\n",
    "        \"\"\"Whatever arguments g is suplied, pass them through to f\"\"\"\n",
    "        return 2 * f(*args, **kwargs)\n",
    "    return g\n",
    "\n",
    "def f2(x):\n",
    "    return x + 5\n",
    "\n",
    "g = doubler_correct(f2)\n",
    "print(g(2))"
   ]
  },
  {
   "cell_type": "markdown",
   "id": "20700bf7",
   "metadata": {},
   "source": [
    "As a general rule, our code will be more correct and more readable if we are explicit about what sorts of arguments our functions require. Accordingly, we will use args and kwargs only when we have no other option"
   ]
  }
 ],
 "metadata": {
  "kernelspec": {
   "display_name": "Python 3",
   "language": "python",
   "name": "python3"
  },
  "language_info": {
   "codemirror_mode": {
    "name": "ipython",
    "version": 3
   },
   "file_extension": ".py",
   "mimetype": "text/x-python",
   "name": "python",
   "nbconvert_exporter": "python",
   "pygments_lexer": "ipython3",
   "version": "3.9.0"
  }
 },
 "nbformat": 4,
 "nbformat_minor": 5
}
