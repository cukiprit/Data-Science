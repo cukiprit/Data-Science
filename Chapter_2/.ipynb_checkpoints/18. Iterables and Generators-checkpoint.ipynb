{
 "cells": [
  {
   "cell_type": "markdown",
   "id": "9e06013e",
   "metadata": {},
   "source": [
    "One nice thing about a list is that we can retrieve specific elements by their indices. But we don't always need this.\n",
    "\n",
    "A list of a billion numbers takes up a lot of memory. If we only want the elements one at a time, there's no good reason to keep them all around. If we only end up needing the first several elements, generating the entire billion is hugely wasteful.\n",
    "\n",
    "Often all we need is to iterate over the collection using for and in. In this case we can create generators, which can be iterated over just like lists but generate their values lazily on demand."
   ]
  },
  {
   "cell_type": "code",
   "execution_count": 1,
   "id": "bd6bc711",
   "metadata": {},
   "outputs": [],
   "source": [
    "# One way to create generators is with functions and the yield operator\n",
    "def generate_range(n):\n",
    "    i = 0\n",
    "    while i < n:\n",
    "        yield i # every call to yield produces a value of the generator\n",
    "        i += 1"
   ]
  },
  {
   "cell_type": "markdown",
   "id": "b4623043",
   "metadata": {},
   "source": [
    "The following loop will consume the yielded values one at a time until none are left"
   ]
  },
  {
   "cell_type": "code",
   "execution_count": 2,
   "id": "c3880c60",
   "metadata": {},
   "outputs": [
    {
     "name": "stdout",
     "output_type": "stream",
     "text": [
      "i: 0\n",
      "i: 1\n",
      "i: 2\n",
      "i: 3\n",
      "i: 4\n",
      "i: 5\n",
      "i: 6\n",
      "i: 7\n",
      "i: 8\n",
      "i: 9\n",
      "i: 10\n",
      "i: 11\n",
      "i: 12\n",
      "i: 13\n",
      "i: 14\n",
      "i: 15\n",
      "i: 16\n",
      "i: 17\n",
      "i: 18\n",
      "i: 19\n",
      "i: 20\n",
      "i: 21\n",
      "i: 22\n",
      "i: 23\n",
      "i: 24\n",
      "i: 25\n",
      "i: 26\n",
      "i: 27\n",
      "i: 28\n",
      "i: 29\n",
      "i: 30\n",
      "i: 31\n",
      "i: 32\n",
      "i: 33\n",
      "i: 34\n",
      "i: 35\n",
      "i: 36\n",
      "i: 37\n",
      "i: 38\n",
      "i: 39\n",
      "i: 40\n",
      "i: 41\n",
      "i: 42\n",
      "i: 43\n",
      "i: 44\n",
      "i: 45\n",
      "i: 46\n",
      "i: 47\n",
      "i: 48\n",
      "i: 49\n"
     ]
    }
   ],
   "source": [
    "for i in generate_range(50):\n",
    "    print(f\"i: {i}\")"
   ]
  },
  {
   "cell_type": "markdown",
   "id": "24a4dedd",
   "metadata": {},
   "source": [
    "With a generator, we can even create an infinite sequence"
   ]
  },
  {
   "cell_type": "code",
   "execution_count": 6,
   "id": "3df35373",
   "metadata": {},
   "outputs": [],
   "source": [
    "def natural_numbers():\n",
    "    \"\"\"returns 1,2,3,...\"\"\"\n",
    "    n = 1\n",
    "    while True:\n",
    "        yield n\n",
    "        n += 1"
   ]
  },
  {
   "cell_type": "markdown",
   "id": "a6be900e",
   "metadata": {},
   "source": [
    "Although we probably shouldn't iterate over it without using some kind of break logic"
   ]
  },
  {
   "cell_type": "markdown",
   "id": "5bd45d78",
   "metadata": {},
   "source": [
    "### Tip\n",
    "The flip side of laziness is that we can only iterate through a generator once. If we need to iterate through something multiple times, we'll need to either re-create the generator each time or use a list. If generating the values is expensive, that might be a good reasong to use a list instead"
   ]
  },
  {
   "cell_type": "markdown",
   "id": "0f320231",
   "metadata": {},
   "source": [
    "A second way to create generators is by using for comprehensions wrapped in parentheses"
   ]
  },
  {
   "cell_type": "code",
   "execution_count": 7,
   "id": "a21c7513",
   "metadata": {},
   "outputs": [],
   "source": [
    "even_below_30 = (i for i in generate_range(30) if i % 2 == 0)"
   ]
  },
  {
   "cell_type": "markdown",
   "id": "15ebd575",
   "metadata": {},
   "source": [
    "Such a \"generator comprehension\" doesn't do any work until we iterate over it (using for or next). We can use this to build up elaborate data processing pipelines"
   ]
  },
  {
   "cell_type": "code",
   "execution_count": null,
   "id": "1625cbe0",
   "metadata": {},
   "outputs": [],
   "source": [
    "# None of these computations does anything until we iterate\n",
    "data = natural_numbers()\n",
    "evens = (x for x in data if x % 2 == 0)\n",
    "even_squares = (x ** 2 for x in evens)\n",
    "even_squares_ending_in_six = (x for x in even_squares if x % 10 == 6)"
   ]
  },
  {
   "cell_type": "markdown",
   "id": "67a2458b",
   "metadata": {},
   "source": [
    "Not infrequently, when we're iterating over a list or a generator we'll want not just the value but also their indices. For this common case Python provides an enumerate function, which turns values into pairs (index, value)"
   ]
  },
  {
   "cell_type": "code",
   "execution_count": 8,
   "id": "25d02442",
   "metadata": {},
   "outputs": [
    {
     "name": "stdout",
     "output_type": "stream",
     "text": [
      "name 0 is Supri\n",
      "name 1 is Karmin\n",
      "name 2 is Cukiprit\n",
      "name 3 is Dika\n",
      "name 4 is Sukimin\n",
      "name 0 is Supri\n",
      "name 1 is Karmin\n",
      "name 2 is Cukiprit\n",
      "name 3 is Dika\n",
      "name 4 is Sukimin\n",
      "name 0 is Supri\n",
      "name 1 is Karmin\n",
      "name 2 is Cukiprit\n",
      "name 3 is Dika\n",
      "name 4 is Sukimin\n"
     ]
    }
   ],
   "source": [
    "names = [\"Supri\", \"Karmin\", \"Cukiprit\", \"Dika\", \"Sukimin\"]\n",
    "\n",
    "# Not Pythonic\n",
    "for i in range(len(names)):\n",
    "    print(f\"name {i} is {names[i]}\")\n",
    "    \n",
    "# Also not Pythonic\n",
    "i = 0\n",
    "for name in names:\n",
    "    print(f\"name {i} is {names[i]}\")\n",
    "    i += 1\n",
    "    \n",
    "# Pythonic\n",
    "for i, name in enumerate(names):\n",
    "    print(f\"name {i} is {name}\")"
   ]
  }
 ],
 "metadata": {
  "kernelspec": {
   "display_name": "Python 3",
   "language": "python",
   "name": "python3"
  },
  "language_info": {
   "codemirror_mode": {
    "name": "ipython",
    "version": 3
   },
   "file_extension": ".py",
   "mimetype": "text/x-python",
   "name": "python",
   "nbconvert_exporter": "python",
   "pygments_lexer": "ipython3",
   "version": "3.9.0"
  }
 },
 "nbformat": 4,
 "nbformat_minor": 5
}
