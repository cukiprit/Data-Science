{
 "cells": [
  {
   "cell_type": "markdown",
   "id": "72a5a295",
   "metadata": {},
   "source": [
    "A function is a rule for taking zero or more inputs and returning a corresponding output. In Python, we define functions using def\n"
   ]
  },
  {
   "cell_type": "code",
   "execution_count": 1,
   "id": "3a233cc1",
   "metadata": {},
   "outputs": [],
   "source": [
    "def double(x):\n",
    "    return x * 2"
   ]
  },
  {
   "cell_type": "markdown",
   "id": "23fd3f99",
   "metadata": {},
   "source": [
    "Python functions are first-class, which means that we can assign them to a variables and pass them into functions just like any other arguments"
   ]
  },
  {
   "cell_type": "code",
   "execution_count": 2,
   "id": "2b96cd24",
   "metadata": {},
   "outputs": [],
   "source": [
    "def apply_to_one(f):\n",
    "    return f(1)"
   ]
  },
  {
   "cell_type": "code",
   "execution_count": 4,
   "id": "0d188bb1",
   "metadata": {},
   "outputs": [
    {
     "data": {
      "text/plain": [
       "2"
      ]
     },
     "execution_count": 4,
     "metadata": {},
     "output_type": "execute_result"
    }
   ],
   "source": [
    "my_double = double # refers to the previously defined function\n",
    "x = apply_to_one(my_double) # equals 2\n",
    "\n",
    "x"
   ]
  },
  {
   "cell_type": "markdown",
   "id": "d1ed9093",
   "metadata": {},
   "source": [
    "It is also to create short anonymous functions, or lambdas"
   ]
  },
  {
   "cell_type": "code",
   "execution_count": 6,
   "id": "a61d8bae",
   "metadata": {},
   "outputs": [
    {
     "data": {
      "text/plain": [
       "5"
      ]
     },
     "execution_count": 6,
     "metadata": {},
     "output_type": "execute_result"
    }
   ],
   "source": [
    "y = apply_to_one(lambda x: x + 4)\n",
    "\n",
    "y"
   ]
  },
  {
   "cell_type": "markdown",
   "id": "1632162b",
   "metadata": {},
   "source": [
    "We can assigns lambdas to variables, although most people prefer use def instead"
   ]
  },
  {
   "cell_type": "code",
   "execution_count": null,
   "id": "8451ba2c",
   "metadata": {},
   "outputs": [],
   "source": [
    "another_double = lambda x: 2 * x # don't do this\n",
    "\n",
    "def another_double(x):\n",
    "    return 2 * x"
   ]
  },
  {
   "cell_type": "code",
   "execution_count": 7,
   "id": "e1d8589c",
   "metadata": {},
   "outputs": [
    {
     "name": "stdout",
     "output_type": "stream",
     "text": [
      "Hello\n",
      "My Default Message\n"
     ]
    }
   ],
   "source": [
    "# Funtion parameters can also be given default arguments\n",
    "def my_print(message = \"My Default Message\"):\n",
    "    print(message)\n",
    "    \n",
    "my_print(\"Hello\")\n",
    "my_print()"
   ]
  },
  {
   "cell_type": "markdown",
   "id": "2adc05c9",
   "metadata": {},
   "source": [
    "It's sometimes useful to specify arguments by name"
   ]
  },
  {
   "cell_type": "code",
   "execution_count": 9,
   "id": "1bdf7bf9",
   "metadata": {},
   "outputs": [
    {
     "name": "stdout",
     "output_type": "stream",
     "text": [
      "Dika Supri\n",
      "Dika Unknown\n",
      "User Karmin\n"
     ]
    }
   ],
   "source": [
    "def full_name(first=\"User\", last=\"Unknown\"):\n",
    "    return print(f\"{first} {last}\")\n",
    "\n",
    "full_name(\"Dika\", \"Supri\")\n",
    "full_name(\"Dika\")\n",
    "full_name(last=\"Karmin\")"
   ]
  }
 ],
 "metadata": {
  "kernelspec": {
   "display_name": "Python 3",
   "language": "python",
   "name": "python3"
  },
  "language_info": {
   "codemirror_mode": {
    "name": "ipython",
    "version": 3
   },
   "file_extension": ".py",
   "mimetype": "text/x-python",
   "name": "python",
   "nbconvert_exporter": "python",
   "pygments_lexer": "ipython3",
   "version": "3.9.0"
  }
 },
 "nbformat": 4,
 "nbformat_minor": 5
}
