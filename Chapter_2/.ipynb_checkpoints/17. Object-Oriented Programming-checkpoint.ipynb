{
 "cells": [
  {
   "cell_type": "markdown",
   "id": "ad598ca1",
   "metadata": {},
   "source": [
    "Like many languages, Python allow us to define class that encapsulate data and the functions that operate on them. To define a class, we use the class keyword"
   ]
  },
  {
   "cell_type": "code",
   "execution_count": null,
   "id": "e384f4aa",
   "metadata": {},
   "outputs": [],
   "source": [
    "class CountingClicker:\n",
    "    \"\"\"A class can/should have a docstring\"\"\""
   ]
  },
  {
   "cell_type": "markdown",
   "id": "f56c3ab8",
   "metadata": {},
   "source": [
    "A class contains zero or more member functions. By convention, each takes a first parameter, self, that refers to the particular class instance.\n",
    "\n",
    "Normally, a class has a constructor, named __ init__. It takes whatever parameters we need to construct an instance of our class and does whatever setup we need"
   ]
  },
  {
   "cell_type": "code",
   "execution_count": null,
   "id": "061dd868",
   "metadata": {},
   "outputs": [],
   "source": [
    "class CountingClicker:\n",
    "    \"\"\"A class can/should have a docstring\"\"\"\n",
    "    def __init__(self, count=0):\n",
    "        self.count = count"
   ]
  },
  {
   "cell_type": "markdown",
   "id": "9729eff9",
   "metadata": {},
   "source": [
    "Although the constructor has a funny name, we construct instance of the clicker using just the class name"
   ]
  },
  {
   "cell_type": "code",
   "execution_count": null,
   "id": "f1efa04a",
   "metadata": {},
   "outputs": [],
   "source": [
    "clicker1 = CountingClicker() # initialized to 0\n",
    "clicker2 = CountingClicker(800) # starts with count = 800\n",
    "clicker3 = CountingClicker(count=1000) # more explicit way of doing the same"
   ]
  },
  {
   "cell_type": "markdown",
   "id": "57ffa9b7",
   "metadata": {},
   "source": [
    "Notice that the __ init__ method name starts and ends with double underscores. These \"magic\" methods are sometimes called \"dunder\" methods and represent \"special\" behaviors"
   ]
  },
  {
   "cell_type": "markdown",
   "id": "f568faf3",
   "metadata": {},
   "source": [
    "## Note\n",
    "Class methods whose names start with an underscore are considered \"private\", and users of the class aren't supposed to directly call them. However, Python won't stop users from calling them"
   ]
  },
  {
   "cell_type": "markdown",
   "id": "b3bb413c",
   "metadata": {},
   "source": [
    "Another such method is __ repr__, which produces the string representation of class instance"
   ]
  },
  {
   "cell_type": "code",
   "execution_count": null,
   "id": "cd2277e0",
   "metadata": {},
   "outputs": [],
   "source": [
    "class CountingClicker:\n",
    "    \"\"\"A class can/should have a docstring\"\"\"\n",
    "    def __init__(self, count=0):\n",
    "        self.count = count\n",
    "    \n",
    "    def __repr__(self):\n",
    "        rerturn f\"CountingClicker(count={self.count})\"\n",
    "        \n",
    "    def click(self, num_times=1):\n",
    "        self.count += num_times\n",
    "        \n",
    "    def read(self):\n",
    "        return self.count\n",
    "    \n",
    "    def reset(self):\n",
    "        self.count = 0"
   ]
  },
  {
   "cell_type": "markdown",
   "id": "49bec972",
   "metadata": {},
   "source": [
    "Having defined it, we can use assert to write some test cases"
   ]
  },
  {
   "cell_type": "code",
   "execution_count": null,
   "id": "02cce62e",
   "metadata": {},
   "outputs": [],
   "source": [
    "clicker = CountingClicker()\n",
    "assert clicker.read() == 0, \"clicker seharusnya dimulai dari 0\"\n",
    "clicker.click()\n",
    "clicker.click()\n",
    "assert clicker.read() == 2, \"setelah 2 kali klik, seharusnya count = 2\"\n",
    "clicker.reset()\n",
    "assert clicker.read() == 0, \"setelah reset, clicker seharusnya kembali ke 0\""
   ]
  },
  {
   "cell_type": "markdown",
   "id": "24cebd39",
   "metadata": {},
   "source": [
    "We'll also occasionally create subclasses that inherit some of their functionality from a parent class. For example, we could create a non-resetable clicker by using CountingClicker as the base class and overriding the reset method to do nothing"
   ]
  },
  {
   "cell_type": "code",
   "execution_count": null,
   "id": "1a563a0f",
   "metadata": {},
   "outputs": [],
   "source": [
    "# A subclass inherits all the behavior of its parent class\n",
    "class NoResetClicker(CountingClicker):\n",
    "    # This class has all the same methods as CountingClicker\n",
    "    # Except that it has a reset method that does nothing\n",
    "    def reset(self):\n",
    "        pass\n",
    "    \n",
    "clicker2 = NoResetClicker()\n",
    "assert clicker2.read() == 0\n",
    "clicker2.click()\n",
    "assert clicker2.read() == 1\n",
    "clicker2.reset()\n",
    "assert clicker2.read() == 1, \"reset seharusnya tidak merubah apa-apa\""
   ]
  }
 ],
 "metadata": {
  "kernelspec": {
   "display_name": "Python 3",
   "language": "python",
   "name": "python3"
  },
  "language_info": {
   "codemirror_mode": {
    "name": "ipython",
    "version": 3
   },
   "file_extension": ".py",
   "mimetype": "text/x-python",
   "name": "python",
   "nbconvert_exporter": "python",
   "pygments_lexer": "ipython3",
   "version": "3.9.0"
  }
 },
 "nbformat": 4,
 "nbformat_minor": 5
}
