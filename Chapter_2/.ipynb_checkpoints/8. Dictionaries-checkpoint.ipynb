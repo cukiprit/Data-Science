{
 "cells": [
  {
   "cell_type": "markdown",
   "id": "10af2257",
   "metadata": {},
   "source": [
    "Another fundamental data structure is a dictionary which associates values with keys and allows us to quickly retrieve the value corresponding to a given key"
   ]
  },
  {
   "cell_type": "code",
   "execution_count": 1,
   "id": "71331472",
   "metadata": {},
   "outputs": [],
   "source": [
    "empty_dict = {} # Pythonic\n",
    "empty_dict2 = dict() # less pythonic\n",
    "grades = {\"Dika\": 90, \"Tama\": 100}"
   ]
  },
  {
   "cell_type": "code",
   "execution_count": 3,
   "id": "f56d0ff3",
   "metadata": {},
   "outputs": [
    {
     "data": {
      "text/plain": [
       "90"
      ]
     },
     "execution_count": 3,
     "metadata": {},
     "output_type": "execute_result"
    }
   ],
   "source": [
    "dika_grades = grades[\"Dika\"]\n",
    "\n",
    "dika_grades"
   ]
  },
  {
   "cell_type": "code",
   "execution_count": 4,
   "id": "3c46bb69",
   "metadata": {},
   "outputs": [
    {
     "name": "stdout",
     "output_type": "stream",
     "text": [
      "Nilai tidak ditemukan\n"
     ]
    }
   ],
   "source": [
    "try:\n",
    "    cukiprit_grades = grades[\"Cukiprit\"]\n",
    "except KeyError:\n",
    "    print(\"Nilai tidak ditemukan\")"
   ]
  },
  {
   "cell_type": "code",
   "execution_count": 6,
   "id": "8918a803",
   "metadata": {},
   "outputs": [
    {
     "name": "stdout",
     "output_type": "stream",
     "text": [
      "True\n",
      "True\n",
      "False\n"
     ]
    }
   ],
   "source": [
    "dika_has_grade = \"Dika\" in grades\n",
    "tama_has_grade = \"Tama\" in grades\n",
    "cukiprit_has_grade = \"Cukiprit\" in grades\n",
    "\n",
    "print(dika_has_grade)\n",
    "print(tama_has_grade)\n",
    "print(cukiprit_has_grade)"
   ]
  },
  {
   "cell_type": "markdown",
   "id": "880b324f",
   "metadata": {},
   "source": [
    "Dictionaries have a get method that returns a default value (instead raising an exception) when we lookup a key that's not in dictionary"
   ]
  },
  {
   "cell_type": "code",
   "execution_count": 8,
   "id": "bc60e111",
   "metadata": {},
   "outputs": [],
   "source": [
    "dika_grade = grades.get(\"Dika\", 0)\n",
    "cukiprit_grade = grades.get(\"Cukiprit\", 0)\n",
    "no_ones_grade = grades.get(\"No One\")"
   ]
  },
  {
   "cell_type": "markdown",
   "id": "1aabcc11",
   "metadata": {},
   "source": [
    "We can assign key/value pairs using the same square brackets"
   ]
  },
  {
   "cell_type": "code",
   "execution_count": 9,
   "id": "c74c22c8",
   "metadata": {},
   "outputs": [
    {
     "data": {
      "text/plain": [
       "3"
      ]
     },
     "execution_count": 9,
     "metadata": {},
     "output_type": "execute_result"
    }
   ],
   "source": [
    "grades[\"Dika\"] = 75\n",
    "grades[\"Cukiprit\"] = 60\n",
    "num_students = len(grades)\n",
    "\n",
    "num_students"
   ]
  },
  {
   "cell_type": "markdown",
   "id": "544137ea",
   "metadata": {},
   "source": [
    "We can use dictionaries to represent structured data"
   ]
  },
  {
   "cell_type": "code",
   "execution_count": 11,
   "id": "6e4945d2",
   "metadata": {},
   "outputs": [],
   "source": [
    "tweet = {\n",
    "    \"user\": \"Cukiprit\",\n",
    "    \"text\": \"Data Science susah\",\n",
    "    \"retweet_count\": 3,\n",
    "    \"hastags\": [\"#data\", \"#science\", \"#datascience\", \"#computescience\"]\n",
    "}"
   ]
  },
  {
   "cell_type": "markdown",
   "id": "ac0ab8c9",
   "metadata": {},
   "source": [
    "Besides looking for specific keys, we can look at all of them"
   ]
  },
  {
   "cell_type": "code",
   "execution_count": 12,
   "id": "49f3793a",
   "metadata": {},
   "outputs": [
    {
     "name": "stdout",
     "output_type": "stream",
     "text": [
      "True\n",
      "True\n",
      "True\n"
     ]
    }
   ],
   "source": [
    "tweet_keys = tweet.keys() # iterable for the keys\n",
    "tweet_values = tweet.values() # iterable for values\n",
    "tweet_items = tweet.items() # iterable for the (key, value) tuples\n",
    "\n",
    "print(\"user\" in tweet_keys) # True but not Pythonic\n",
    "print(\"user\" in tweet) # Pythonic way of checking for keys\n",
    "print(\"Cukiprit\" in tweet_values) # True (slow, but the only way to check)"
   ]
  },
  {
   "cell_type": "markdown",
   "id": "84502726",
   "metadata": {},
   "source": [
    "Dictionary keys must be \"hashable\" in particular, we cannot use lists as keys. If we need a multipart key, we should probably use a tuple or figure out a way to turn the key into string"
   ]
  }
 ],
 "metadata": {
  "kernelspec": {
   "display_name": "Python 3",
   "language": "python",
   "name": "python3"
  },
  "language_info": {
   "codemirror_mode": {
    "name": "ipython",
    "version": 3
   },
   "file_extension": ".py",
   "mimetype": "text/x-python",
   "name": "python",
   "nbconvert_exporter": "python",
   "pygments_lexer": "ipython3",
   "version": "3.9.0"
  }
 },
 "nbformat": 4,
 "nbformat_minor": 5
}
