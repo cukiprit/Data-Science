{
 "cells": [
  {
   "cell_type": "markdown",
   "id": "6d6b5be4",
   "metadata": {},
   "source": [
    "Strings can be delimited by single or double quotation"
   ]
  },
  {
   "cell_type": "code",
   "execution_count": null,
   "id": "8b50389f",
   "metadata": {},
   "outputs": [],
   "source": [
    "single_quoted_string = 'Andhika'\n",
    "double_quoted_string = \"Andhika\""
   ]
  },
  {
   "cell_type": "markdown",
   "id": "e2abf0b5",
   "metadata": {},
   "source": [
    "Python uses backslashes to encode special characters"
   ]
  },
  {
   "cell_type": "code",
   "execution_count": 1,
   "id": "9801a5c1",
   "metadata": {},
   "outputs": [
    {
     "data": {
      "text/plain": [
       "1"
      ]
     },
     "execution_count": 1,
     "metadata": {},
     "output_type": "execute_result"
    }
   ],
   "source": [
    "tab_string = '\\t'\n",
    "len(tab_string)"
   ]
  },
  {
   "cell_type": "code",
   "execution_count": 2,
   "id": "001ac922",
   "metadata": {},
   "outputs": [
    {
     "data": {
      "text/plain": [
       "2"
      ]
     },
     "execution_count": 2,
     "metadata": {},
     "output_type": "execute_result"
    }
   ],
   "source": [
    "non_tab_string = r\"\\t\" # represents the characters \\ and t\n",
    "len(non_tab_string)"
   ]
  },
  {
   "cell_type": "markdown",
   "id": "499cd111",
   "metadata": {},
   "source": [
    "We can create multiline strings using three double quotes"
   ]
  },
  {
   "cell_type": "code",
   "execution_count": 3,
   "id": "8eefaff8",
   "metadata": {},
   "outputs": [
    {
     "data": {
      "text/plain": [
       "'This is the first line,\\nThis is the second line,\\nThis is the third line'"
      ]
     },
     "execution_count": 3,
     "metadata": {},
     "output_type": "execute_result"
    }
   ],
   "source": [
    "multi_line_string = \"\"\"This is the first line,\n",
    "This is the second line,\n",
    "This is the third line\"\"\"\n",
    "\n",
    "multi_line_string"
   ]
  },
  {
   "cell_type": "markdown",
   "id": "20cdedea",
   "metadata": {},
   "source": [
    "A new feature in Python 3.6 is the f-string, which provides a simple way to subtitute values into strings"
   ]
  },
  {
   "cell_type": "code",
   "execution_count": 4,
   "id": "719afac7",
   "metadata": {},
   "outputs": [
    {
     "name": "stdout",
     "output_type": "stream",
     "text": [
      "Joel Grus\n",
      "Joel Grus\n",
      "Joel Grus\n"
     ]
    }
   ],
   "source": [
    "first_name = \"Joel\"\n",
    "last_name = \"Grus\"\n",
    "\n",
    "# We might want to combine them into full name. There are multiple ways\n",
    "# to construct such a full_name string\n",
    "full_name1 = first_name + \" \" + last_name\n",
    "full_name2 = \"{0} {1}\".format(first_name, last_name)\n",
    "full_name3 = f\"{first_name} {last_name}\"\n",
    "\n",
    "print(full_name1)\n",
    "print(full_name2)\n",
    "print(full_name3)"
   ]
  }
 ],
 "metadata": {
  "kernelspec": {
   "display_name": "Python 3",
   "language": "python",
   "name": "python3"
  },
  "language_info": {
   "codemirror_mode": {
    "name": "ipython",
    "version": 3
   },
   "file_extension": ".py",
   "mimetype": "text/x-python",
   "name": "python",
   "nbconvert_exporter": "python",
   "pygments_lexer": "ipython3",
   "version": "3.9.0"
  }
 },
 "nbformat": 4,
 "nbformat_minor": 5
}
