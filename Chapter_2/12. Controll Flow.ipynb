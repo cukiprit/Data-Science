{
 "cells": [
  {
   "cell_type": "markdown",
   "id": "968fb225",
   "metadata": {},
   "source": [
    "As in most programming languages, we can perform an action conditionally using if"
   ]
  },
  {
   "cell_type": "code",
   "execution_count": null,
   "id": "63c89494",
   "metadata": {},
   "outputs": [],
   "source": [
    "if 1 > 2:\n",
    "    message = \"Jika saja 1 lebih besar dari 2\"\n",
    "elif 1 > 3:\n",
    "    message = \"elif artinya else if\"\n",
    "else:\n",
    "    message = \"Ketika semua if/else if gagal terpenuhi, kita akan menggunakan else (Jika ada)\""
   ]
  },
  {
   "cell_type": "markdown",
   "id": "0663d86d",
   "metadata": {},
   "source": [
    "We can also write ternary if-then-else on one line, which we'll do occasionally"
   ]
  },
  {
   "cell_type": "code",
   "execution_count": null,
   "id": "e29b1350",
   "metadata": {},
   "outputs": [],
   "source": [
    "parity = \"even\" if x % 2 == 0 else \"odd\""
   ]
  },
  {
   "cell_type": "markdown",
   "id": "a5136d07",
   "metadata": {},
   "source": [
    "Although more often we'll use for and in, Python has a while loop like any other programming languages"
   ]
  },
  {
   "cell_type": "code",
   "execution_count": 1,
   "id": "1239d886",
   "metadata": {},
   "outputs": [
    {
     "name": "stdout",
     "output_type": "stream",
     "text": [
      "0 is less than 10\n",
      "1 is less than 10\n",
      "2 is less than 10\n",
      "3 is less than 10\n",
      "4 is less than 10\n",
      "5 is less than 10\n",
      "6 is less than 10\n",
      "7 is less than 10\n",
      "8 is less than 10\n",
      "9 is less than 10\n"
     ]
    }
   ],
   "source": [
    "x = 0\n",
    "while x < 10:\n",
    "    print(f\"{x} is less than 10\")\n",
    "    x += 1"
   ]
  },
  {
   "cell_type": "code",
   "execution_count": 2,
   "id": "20f2f8d2",
   "metadata": {},
   "outputs": [
    {
     "name": "stdout",
     "output_type": "stream",
     "text": [
      "0 is less than 10\n",
      "1 is less than 10\n",
      "2 is less than 10\n",
      "3 is less than 10\n",
      "4 is less than 10\n",
      "5 is less than 10\n",
      "6 is less than 10\n",
      "7 is less than 10\n",
      "8 is less than 10\n",
      "9 is less than 10\n"
     ]
    }
   ],
   "source": [
    "# range(10) is the numbers 0, 1, ... , 9\n",
    "for x in range(10):\n",
    "    print(f\"{x} is less than 10\")"
   ]
  }
 ],
 "metadata": {
  "kernelspec": {
   "display_name": "Python 3",
   "language": "python",
   "name": "python3"
  },
  "language_info": {
   "codemirror_mode": {
    "name": "ipython",
    "version": 3
   },
   "file_extension": ".py",
   "mimetype": "text/x-python",
   "name": "python",
   "nbconvert_exporter": "python",
   "pygments_lexer": "ipython3",
   "version": "3.9.0"
  }
 },
 "nbformat": 4,
 "nbformat_minor": 5
}
