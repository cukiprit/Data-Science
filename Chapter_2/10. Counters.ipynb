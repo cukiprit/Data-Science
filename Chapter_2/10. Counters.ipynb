{
 "cells": [
  {
   "cell_type": "markdown",
   "id": "42a156c7",
   "metadata": {},
   "source": [
    "A Counter turns a sequence of values into a defaultdict(int) like object mapping key to counts"
   ]
  },
  {
   "cell_type": "code",
   "execution_count": 1,
   "id": "17534f0a",
   "metadata": {},
   "outputs": [
    {
     "data": {
      "text/plain": [
       "Counter({10: 2, 27: 2, 5: 1})"
      ]
     },
     "execution_count": 1,
     "metadata": {},
     "output_type": "execute_result"
    }
   ],
   "source": [
    "from collections import Counter\n",
    "\n",
    "c = Counter([10, 27, 27, 10, 5]) # c is basically {5: 1, 10: 2, 27: 2}\n",
    "\n",
    "c"
   ]
  },
  {
   "cell_type": "markdown",
   "id": "f1f3b740",
   "metadata": {},
   "source": [
    "This gives us a very simple way to solve our word_counts problem"
   ]
  },
  {
   "cell_type": "code",
   "execution_count": null,
   "id": "f6df6f2b",
   "metadata": {},
   "outputs": [],
   "source": [
    "word_counts = Counter(document)"
   ]
  },
  {
   "cell_type": "markdown",
   "id": "34316f71",
   "metadata": {},
   "source": [
    "A Counter instance has a most_common method that is frequently useful"
   ]
  },
  {
   "cell_type": "code",
   "execution_count": null,
   "id": "f786f7d0",
   "metadata": {},
   "outputs": [],
   "source": [
    "# print the 10 most common words and their counts\n",
    "for word, count in word_counts.most_common(10):\n",
    "    print(word, count)"
   ]
  }
 ],
 "metadata": {
  "kernelspec": {
   "display_name": "Python 3",
   "language": "python",
   "name": "python3"
  },
  "language_info": {
   "codemirror_mode": {
    "name": "ipython",
    "version": 3
   },
   "file_extension": ".py",
   "mimetype": "text/x-python",
   "name": "python",
   "nbconvert_exporter": "python",
   "pygments_lexer": "ipython3",
   "version": "3.9.0"
  }
 },
 "nbformat": 4,
 "nbformat_minor": 5
}
