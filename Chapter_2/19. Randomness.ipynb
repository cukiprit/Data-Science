{
 "cells": [
  {
   "cell_type": "markdown",
   "id": "da46d968",
   "metadata": {},
   "source": [
    "In data science, we will frequently need to generate random numbers, which we can do with the random module"
   ]
  },
  {
   "cell_type": "code",
   "execution_count": 1,
   "id": "22ebf8ff",
   "metadata": {},
   "outputs": [
    {
     "name": "stdout",
     "output_type": "stream",
     "text": [
      "[0.5714025946899135, 0.4288890546751146, 0.5780913011344704, 0.20609823213950174, 0.81332125135732, 0.8235888725334455, 0.6534725339011758, 0.16022955651881965, 0.5206693596399246, 0.32777281162209315]\n"
     ]
    }
   ],
   "source": [
    "import random\n",
    "random.seed(10) # This ensures we get the same results every time\n",
    "\n",
    "four_uniform_randoms = [random.random() for _ in range(10)]\n",
    "\n",
    "print(four_uniform_randoms)"
   ]
  },
  {
   "cell_type": "markdown",
   "id": "34a07b4e",
   "metadata": {},
   "source": [
    "The random module actually produces pseudorandom (that is, deterministic) numbers based on an internal state that we can set with random.seed if we want to get reproducible results"
   ]
  },
  {
   "cell_type": "code",
   "execution_count": 2,
   "id": "b56f9225",
   "metadata": {},
   "outputs": [
    {
     "name": "stdout",
     "output_type": "stream",
     "text": [
      "0.6229016948897019\n",
      "0.6229016948897019\n"
     ]
    }
   ],
   "source": [
    "random.seed(5) # set the seed to 5\n",
    "print(random.random()) # 0.6229016948897019\n",
    "random.seed(5) # reset the seed to 5\n",
    "print(random.random()) 0.6229016948897019"
   ]
  },
  {
   "cell_type": "markdown",
   "id": "68e8ea90",
   "metadata": {},
   "source": [
    "We'll sometimes use random.randrange, which takes either one or two arguments and returns an element chosen randomly from the coressponding range"
   ]
  },
  {
   "cell_type": "code",
   "execution_count": 4,
   "id": "ff3e8362",
   "metadata": {},
   "outputs": [
    {
     "name": "stdout",
     "output_type": "stream",
     "text": [
      "0.7951935655656966\n",
      "0.6520316967541351\n"
     ]
    }
   ],
   "source": [
    "random.randrange(10)\n",
    "print(random.random())\n",
    "random.randrange(3, 27)\n",
    "print(random.random())"
   ]
  },
  {
   "cell_type": "markdown",
   "id": "8daea565",
   "metadata": {},
   "source": [
    "There are a few more methods that we'll sometimes find convenient. For example, random.shuffle randomly reorders the elements of a list"
   ]
  },
  {
   "cell_type": "code",
   "execution_count": 5,
   "id": "0bc51db8",
   "metadata": {},
   "outputs": [
    {
     "name": "stdout",
     "output_type": "stream",
     "text": [
      "[3, 4, 5, 6, 10, 2, 7, 8, 1, 9]\n"
     ]
    }
   ],
   "source": [
    "arr = [1, 2, 3, 4, 5, 6, 7, 8, 9, 10]\n",
    "random.shuffle(arr)\n",
    "print(arr)"
   ]
  },
  {
   "cell_type": "markdown",
   "id": "f94a40e7",
   "metadata": {},
   "source": [
    "If we need to randomly pick one element from a list, we can use random.choice"
   ]
  },
  {
   "cell_type": "code",
   "execution_count": 6,
   "id": "34c978aa",
   "metadata": {},
   "outputs": [
    {
     "name": "stdout",
     "output_type": "stream",
     "text": [
      "Karmin\n"
     ]
    }
   ],
   "source": [
    "my_best_friend = random.choice([\"Supri\", \"Karmin\", \"Juminem\"])\n",
    "print(my_best_friend)"
   ]
  },
  {
   "cell_type": "markdown",
   "id": "1f0a37b6",
   "metadata": {},
   "source": [
    "And if we need to randomly choose a sample of elements without replacement, we can use random.sample"
   ]
  },
  {
   "cell_type": "code",
   "execution_count": 7,
   "id": "0df3e34d",
   "metadata": {},
   "outputs": [
    {
     "name": "stdout",
     "output_type": "stream",
     "text": [
      "[31, 48, 69, 13, 73, 1, 93, 27, 52, 35]\n"
     ]
    }
   ],
   "source": [
    "lottery_numbers = range(100)\n",
    "winning_numbers = random.sample(lottery_numbers, 10)\n",
    "\n",
    "print(winning_numbers)"
   ]
  },
  {
   "cell_type": "markdown",
   "id": "f402f3ea",
   "metadata": {},
   "source": [
    "To choose a sample of elements with replacement, we can just make multiple calls to random.choice"
   ]
  },
  {
   "cell_type": "code",
   "execution_count": 8,
   "id": "a9f5f8da",
   "metadata": {},
   "outputs": [
    {
     "name": "stdout",
     "output_type": "stream",
     "text": [
      "[23, 98, 49, 20, 97, 9, 17, 79, 79, 56]\n"
     ]
    }
   ],
   "source": [
    "four_with_replacement = [random.choice(range(100)) for _ in range(10)]\n",
    "print(four_with_replacement)"
   ]
  }
 ],
 "metadata": {
  "kernelspec": {
   "display_name": "Python 3",
   "language": "python",
   "name": "python3"
  },
  "language_info": {
   "codemirror_mode": {
    "name": "ipython",
    "version": 3
   },
   "file_extension": ".py",
   "mimetype": "text/x-python",
   "name": "python",
   "nbconvert_exporter": "python",
   "pygments_lexer": "ipython3",
   "version": "3.9.0"
  }
 },
 "nbformat": 4,
 "nbformat_minor": 5
}
