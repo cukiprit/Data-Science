{
 "cells": [
  {
   "cell_type": "markdown",
   "id": "8738ceb6",
   "metadata": {},
   "source": [
    "Another useful data structure is set, which represents a collection of distinc elements. We can define a set by listing its elements between curly braces"
   ]
  },
  {
   "cell_type": "code",
   "execution_count": null,
   "id": "4ea0bed7",
   "metadata": {},
   "outputs": [],
   "source": [
    "primes_below_10 = {2, 3, 5, 7}"
   ]
  },
  {
   "cell_type": "markdown",
   "id": "bd1fe423",
   "metadata": {},
   "source": [
    "However, that doesn't work for empty sets, as {} already means \"empty dict\". In that case we'll need to use set() itself"
   ]
  },
  {
   "cell_type": "code",
   "execution_count": 2,
   "id": "e5e72f64",
   "metadata": {},
   "outputs": [
    {
     "name": "stdout",
     "output_type": "stream",
     "text": [
      "2\n",
      "True\n",
      "False\n"
     ]
    }
   ],
   "source": [
    "s = set()\n",
    "s.add(1) # s is now {1}\n",
    "s.add(2) # s is now {1, 2}\n",
    "s.add(2) # s is still {1, 2}\n",
    "x = len(s) # 2\n",
    "y = 2 in s\n",
    "z = 100 in s\n",
    "\n",
    "print(x)\n",
    "print(y)\n",
    "print(z)"
   ]
  },
  {
   "cell_type": "markdown",
   "id": "252fb47f",
   "metadata": {},
   "source": [
    "We'll use sets for two main reasons. The first is that \"in\" is very fast operation on sets. If we have a large collection of items that we want to use for a membership test, a set is more appropriate than a list"
   ]
  },
  {
   "cell_type": "code",
   "execution_count": 5,
   "id": "8f731b50",
   "metadata": {},
   "outputs": [],
   "source": [
    "lorem_ipsum = \"Lorem ipsum dolor sit amet, consectetur adipiscing elit, sed do eiusmod tempor incididunt ut labore et dolore magna aliqua. Habitant morbi tristique senectus et netus et malesuada fames ac. Tristique risus nec feugiat in fermentum. Nibh ipsum consequat nisl vel. Aenean et tortor at risus. Turpis egestas sed tempus urna et pharetra. Laoreet non curabitur gravida arcu ac. Eget gravida cum sociis natoque penatibus et magnis dis parturient. Sollicitudin tempor id eu nisl nunc mi ipsum faucibus. Varius sit amet mattis vulputate enim nulla. Erat nam at lectus urna duis convallis convallis tellus. Vestibulum sed arcu non odio euismod lacinia at.\"\n",
    "\n",
    "stop_words1 = [\"a\", \"an\", \"at\"]\n",
    "stop_words2 = [\"yet\", \"you\"]"
   ]
  },
  {
   "cell_type": "code",
   "execution_count": 6,
   "id": "35c15d45",
   "metadata": {},
   "outputs": [
    {
     "name": "stdout",
     "output_type": "stream",
     "text": [
      "False\n",
      "False\n"
     ]
    }
   ],
   "source": [
    "stopwords_list = f\"{stop_words1} {lorem_ipsum} {stop_words2}\"\n",
    "\n",
    "print(\"zip\" in stopwords_list)\n",
    "\n",
    "stopwords_set = set(stopwords_list)\n",
    "\n",
    "print(\"zip\" in stopwords_set)"
   ]
  },
  {
   "cell_type": "markdown",
   "id": "cfb4c7c2",
   "metadata": {},
   "source": [
    "The second reason is to find the distinct items in collections"
   ]
  },
  {
   "cell_type": "code",
   "execution_count": 7,
   "id": "a301eb0e",
   "metadata": {},
   "outputs": [
    {
     "name": "stdout",
     "output_type": "stream",
     "text": [
      "6\n",
      "{1, 2, 3}\n",
      "3\n",
      "[1, 2, 3]\n"
     ]
    }
   ],
   "source": [
    "item_list = [1, 2, 3, 1, 2, 3]\n",
    "num_items = len(item_list)\n",
    "item_set = set(item_list)\n",
    "num_distinct_items = len(item_set)\n",
    "distinct_item_list = list(item_set)\n",
    "\n",
    "print(num_items)\n",
    "print(item_set)\n",
    "print(num_distinct_items)\n",
    "print(distinct_item_list)"
   ]
  },
  {
   "cell_type": "markdown",
   "id": "5350d0d4",
   "metadata": {},
   "source": [
    "In this data science series, we'll use sets less than dictionaries and lists"
   ]
  }
 ],
 "metadata": {
  "kernelspec": {
   "display_name": "Python 3",
   "language": "python",
   "name": "python3"
  },
  "language_info": {
   "codemirror_mode": {
    "name": "ipython",
    "version": 3
   },
   "file_extension": ".py",
   "mimetype": "text/x-python",
   "name": "python",
   "nbconvert_exporter": "python",
   "pygments_lexer": "ipython3",
   "version": "3.9.0"
  }
 },
 "nbformat": 4,
 "nbformat_minor": 5
}
