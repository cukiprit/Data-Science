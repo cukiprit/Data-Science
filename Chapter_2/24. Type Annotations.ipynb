{
 "cells": [
  {
   "cell_type": "markdown",
   "id": "3c4d2c70",
   "metadata": {},
   "source": [
    "Python is a dnyamically typed language. That means that it in general it doesn't care about the types of objects we use, as long as we use them in valid ways"
   ]
  },
  {
   "cell_type": "code",
   "execution_count": 3,
   "id": "ae44ab61",
   "metadata": {},
   "outputs": [
    {
     "name": "stdout",
     "output_type": "stream",
     "text": [
      "82\n",
      "[60, 22] [59]\n",
      "Hi User60\n"
     ]
    }
   ],
   "source": [
    "import random\n",
    "\n",
    "def add(x, y):\n",
    "    return a + b\n",
    "\n",
    "a = random.randrange(100)\n",
    "b = random.randrange(50)\n",
    "c = random.randrange(75)\n",
    "\n",
    "print(add(a, b))\n",
    "print([a, b], [c])\n",
    "print(\"Hi\", f\"User{a}\")"
   ]
  },
  {
   "cell_type": "markdown",
   "id": "3125360b",
   "metadata": {},
   "source": [
    "Whereas in a statically typed language our functions and objects would have specific types"
   ]
  },
  {
   "cell_type": "code",
   "execution_count": 5,
   "id": "e0a986e2",
   "metadata": {},
   "outputs": [
    {
     "name": "stdout",
     "output_type": "stream",
     "text": [
      "82\n",
      "Hi User 60\n"
     ]
    }
   ],
   "source": [
    "def add(a: int, b: int) -> int:\n",
    "    return a + b\n",
    "\n",
    "print(add(a, b))\n",
    "print(add(\"Hi \", f\"User {a}\"))"
   ]
  },
  {
   "cell_type": "markdown",
   "id": "59f0a87e",
   "metadata": {},
   "source": [
    "In fact, recent version of Python do sort of have this functionality. The preceding version of add with the **int** type annotations is valid Python 3.6\n",
    "\n",
    "However, these type annotations don't actually do anything. We can still use the annotated add function to add strings, and the call ```add(10, \"five\")``` will still raise the exact same TypeError\n",
    "\n",
    "That said, there are still at least four good reasons to use type annotations in our Python code:\n",
    "- Types are an important form of documentation. This doubly true in a book that is using code to teach us theoretical and mathematical concepts. Compare the following two function stubs:\n",
    "\n",
    "    `def dot_product(x, y): ...`\n",
    "    \n",
    "    ***we have not yet defined Vector, but imagine we had***\n",
    "    \n",
    "    `def dot_product(x: Vector, y: Vector) -> float:`\n",
    "    \n",
    "    The second one exceedingly more informative\n",
    " \n",
    "\n",
    "- There are external tools (the most popular is mypy) that will read our code, inspect the type annotations, and let us know about type errors before we ever run our code. For example, if we ran mypy over a file containing `add(\"hi\", \"Dika\")`, it would warn us:\n",
    "    \n",
    "    `error: Argument 1 to \"add\" has incompatible type \"str\"; expected \"int\"`\n",
    "    \n",
    "    Like assert testing, this is a good way to find mistakes in our code before we ever run it\n",
    "    \n",
    "\n",
    "- Having to think about the types in our code forces us to design cleaner functions and interfaces:\n",
    "\n",
    "    `from typing import Union`\n",
    "    \n",
    "    `def secret_ugly_func(value, operation): ...`\n",
    "    \n",
    "    `def ugly_func(value: int, operation: Union[str, int, float, bool]) -> int: ...`\n",
    "    \n",
    "    Here we have a function whose operation parameter is allowed to be a string, or an int, or a float, or a bool. It's highly likely that this function is fragile and difficult to use, but it becomes far more clear when the types are made explicit. Doing so, then, will force us to design in a less clucky way, for which our users will thank us\n",
    "    \n",
    "\n",
    "- Using types allows our editor to help us with things like autocomplete and to get angry at type errors\n",
    "\n",
    "For all these reasons, all of the code in the remainder of the book will use type annotations"
   ]
  },
  {
   "cell_type": "markdown",
   "id": "f17c42e8",
   "metadata": {},
   "source": [
    "### How to write Type Annotations\n",
    "\n",
    "As we've seen, for built-in types like int, bool, and float, we just use the type itself as the annotaion. What if we had a list?"
   ]
  },
  {
   "cell_type": "code",
   "execution_count": 6,
   "id": "19b3b5dc",
   "metadata": {},
   "outputs": [],
   "source": [
    "def total(x: list) -> float:\n",
    "    return sum(total)"
   ]
  },
  {
   "cell_type": "markdown",
   "id": "87cd64d5",
   "metadata": {},
   "source": [
    "This isn't wrong, but the type isn't specific enough. It's clear we really want x to be a list of floats, not (say) a list of strings.\n",
    "\n",
    "The typing module provides a number of parameterized types that we can use to do just this:"
   ]
  },
  {
   "cell_type": "code",
   "execution_count": 7,
   "id": "884da2eb",
   "metadata": {},
   "outputs": [],
   "source": [
    "from typing import List\n",
    "\n",
    "def total(x: List[float]) -> float:\n",
    "    return sum(total)"
   ]
  },
  {
   "cell_type": "markdown",
   "id": "8b984851",
   "metadata": {},
   "source": [
    "Up until now we've only specified annotations for function parameters and return type. For variables themselves it's usually obvious what the type is"
   ]
  },
  {
   "cell_type": "code",
   "execution_count": null,
   "id": "93261138",
   "metadata": {},
   "outputs": [],
   "source": [
    "x: int = 5"
   ]
  },
  {
   "cell_type": "markdown",
   "id": "f160cd91",
   "metadata": {},
   "source": [
    "This is how to type-annotate variables when we define them but this is unnecessary. Because it's obvious x is an int"
   ]
  },
  {
   "cell_type": "markdown",
   "id": "5bfcf8cf",
   "metadata": {},
   "source": [
    "However, sometimes it's not obvious"
   ]
  },
  {
   "cell_type": "code",
   "execution_count": null,
   "id": "eaed9452",
   "metadata": {},
   "outputs": [],
   "source": [
    "values = []\n",
    "best_so_far = None"
   ]
  },
  {
   "cell_type": "markdown",
   "id": "2d2b962b",
   "metadata": {},
   "source": [
    "In such cases we will supply inline type hints"
   ]
  },
  {
   "cell_type": "code",
   "execution_count": 8,
   "id": "86fdb1f8",
   "metadata": {},
   "outputs": [],
   "source": [
    "from typing import Optional\n",
    "\n",
    "values: List[int] = []\n",
    "best_so_far: Optional[float] = None"
   ]
  },
  {
   "cell_type": "markdown",
   "id": "d4440060",
   "metadata": {},
   "source": [
    "The typing module contains many other types, only a few of which we'll ever use"
   ]
  },
  {
   "cell_type": "code",
   "execution_count": 10,
   "id": "c1abce32",
   "metadata": {},
   "outputs": [],
   "source": [
    "from typing import Dict, Iterable, Tuple\n",
    "\n",
    "# Keys are strings, values are ints\n",
    "counts: Dict[str, int] = {'data': 1, 'science': 2}\n",
    "\n",
    "lazy = True\n",
    "    \n",
    "# lists and generators are both iterable\n",
    "if lazy:\n",
    "    evens: Iterable[int] = (x for x in range(20) if x % 2 == 0)\n",
    "else:\n",
    "    evens = [0, 2, 4, 6, 8, 10, 12, 14, 16, 18]\n",
    "\n",
    "# tuples specify a type for each elemnt\n",
    "triple: Tuple[int, float, int] = (10, 1.5, 17)"
   ]
  },
  {
   "cell_type": "markdown",
   "id": "4779e066",
   "metadata": {},
   "source": [
    "Since Python has first-class functions, we need a type to represent those as well. Here's a pretty contived example:"
   ]
  },
  {
   "cell_type": "code",
   "execution_count": null,
   "id": "245a026e",
   "metadata": {},
   "outputs": [],
   "source": [
    "from typing import Callable\n",
    "\n",
    "# The type hint says that repeater is a function that takes\n",
    "# two arguments, a string and an int, and returns a string\n",
    "\n",
    "def twice(repeater: Callable[[str, int], str], s: str) -> str:\n",
    "    return repeater(s, 10)\n",
    "\n",
    "def comma_repeater(s: str, n: int) -> str:\n",
    "    n = [s for _ in range(n)]\n",
    "    return ','.join(n)"
   ]
  },
  {
   "cell_type": "markdown",
   "id": "abc8c03f",
   "metadata": {},
   "source": [
    "As the type annotations are just Python objects, we can assign them to variables to make them easier to refer to"
   ]
  },
  {
   "cell_type": "code",
   "execution_count": null,
   "id": "d401af0a",
   "metadata": {},
   "outputs": [],
   "source": [
    "Number = int\n",
    "Numbers = List[Number]\n",
    "\n",
    "def total(x: Numbers) => Number:\n",
    "    return sum(x)"
   ]
  }
 ],
 "metadata": {
  "kernelspec": {
   "display_name": "Python 3",
   "language": "python",
   "name": "python3"
  },
  "language_info": {
   "codemirror_mode": {
    "name": "ipython",
    "version": 3
   },
   "file_extension": ".py",
   "mimetype": "text/x-python",
   "name": "python",
   "nbconvert_exporter": "python",
   "pygments_lexer": "ipython3",
   "version": "3.9.0"
  }
 },
 "nbformat": 4,
 "nbformat_minor": 5
}
