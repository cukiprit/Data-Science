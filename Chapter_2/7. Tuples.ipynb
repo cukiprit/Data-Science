{
 "cells": [
  {
   "cell_type": "markdown",
   "id": "3855437e",
   "metadata": {},
   "source": [
    "Tuples are lists immutable cousins. Pretty much anything we can do to a list that doesn't involve modifying it, we can do to a tuple. We specify a tuple by using parentheses (or nothing) instead of square brackets"
   ]
  },
  {
   "cell_type": "code",
   "execution_count": 2,
   "id": "905ec542",
   "metadata": {},
   "outputs": [
    {
     "name": "stdout",
     "output_type": "stream",
     "text": [
      "Tidak memodifikasi tuple\n",
      "[1, 8]\n"
     ]
    }
   ],
   "source": [
    "my_list = [1, 2]\n",
    "my_tuple = (1, 2)\n",
    "other_tuple = 10, 11\n",
    "my_list[1] = 2*4\n",
    "\n",
    "try:\n",
    "    my_tuple[1] = 3\n",
    "except TypeError:\n",
    "    print(\"Tidak memodifikasi tuple\")\n",
    "    \n",
    "print(my_list)"
   ]
  },
  {
   "cell_type": "markdown",
   "id": "cb89d049",
   "metadata": {},
   "source": [
    "Tuples are a convenient way to return multiple values from functions"
   ]
  },
  {
   "cell_type": "code",
   "execution_count": 3,
   "id": "8e4c2c66",
   "metadata": {},
   "outputs": [
    {
     "name": "stdout",
     "output_type": "stream",
     "text": [
      "400\n"
     ]
    }
   ],
   "source": [
    "def sum_and_product(x, y):\n",
    "    return(x ** 2) + (y ** 2) + (2 * x * y)\n",
    "\n",
    "print(sum_and_product(10, 10))"
   ]
  },
  {
   "cell_type": "markdown",
   "id": "7878a00d",
   "metadata": {},
   "source": [
    "Tuples (and list) can also be used for multiple assignment"
   ]
  },
  {
   "cell_type": "code",
   "execution_count": 4,
   "id": "06ccb89d",
   "metadata": {},
   "outputs": [
    {
     "name": "stdout",
     "output_type": "stream",
     "text": [
      "200 10\n"
     ]
    }
   ],
   "source": [
    "x, y = 10, 200\n",
    "x, y = y, x\n",
    "\n",
    "print(f\"{x} {y}\")"
   ]
  }
 ],
 "metadata": {
  "kernelspec": {
   "display_name": "Python 3",
   "language": "python",
   "name": "python3"
  },
  "language_info": {
   "codemirror_mode": {
    "name": "ipython",
    "version": 3
   },
   "file_extension": ".py",
   "mimetype": "text/x-python",
   "name": "python",
   "nbconvert_exporter": "python",
   "pygments_lexer": "ipython3",
   "version": "3.9.0"
  }
 },
 "nbformat": 4,
 "nbformat_minor": 5
}
