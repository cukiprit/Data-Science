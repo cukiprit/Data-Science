{
 "cells": [
  {
   "cell_type": "markdown",
   "id": "2f04a99c",
   "metadata": {},
   "source": [
    "Certain features of Python aren't loaded by default. In order to use these features, we'll need to import the modules"
   ]
  },
  {
   "cell_type": "code",
   "execution_count": null,
   "id": "30c4df88",
   "metadata": {},
   "outputs": [],
   "source": [
    "import re\n",
    "\n",
    "my_regex = re.compile(\"[0-9]+\", re.I)"
   ]
  },
  {
   "cell_type": "markdown",
   "id": "28236092",
   "metadata": {},
   "source": [
    "If we already had a different re in our code, we could use an alias"
   ]
  },
  {
   "cell_type": "code",
   "execution_count": null,
   "id": "7ec97c9d",
   "metadata": {},
   "outputs": [],
   "source": [
    "import re as regex\n",
    "\n",
    "my_regex = regex.compile(\"[0-9]+\", regex.I)"
   ]
  },
  {
   "cell_type": "markdown",
   "id": "adb99803",
   "metadata": {},
   "source": [
    "We can also simplify the module name"
   ]
  },
  {
   "cell_type": "code",
   "execution_count": null,
   "id": "8fc9eb78",
   "metadata": {},
   "outputs": [],
   "source": [
    "import matplotlib.pyplot as plt\n",
    "\n",
    "plt.plot()"
   ]
  },
  {
   "cell_type": "markdown",
   "id": "328664b1",
   "metadata": {},
   "source": [
    "If we need a few specific values from a module, we can import them explicitly and use them without qualification"
   ]
  },
  {
   "cell_type": "code",
   "execution_count": null,
   "id": "f81b0a05",
   "metadata": {},
   "outputs": [],
   "source": [
    "from collections import defaultdict, Counter\n",
    "\n",
    "lookup = defaultdict(int)\n",
    "my_counter = Counter()"
   ]
  }
 ],
 "metadata": {
  "kernelspec": {
   "display_name": "Python 3",
   "language": "python",
   "name": "python3"
  },
  "language_info": {
   "codemirror_mode": {
    "name": "ipython",
    "version": 3
   },
   "file_extension": ".py",
   "mimetype": "text/x-python",
   "name": "python",
   "nbconvert_exporter": "python",
   "pygments_lexer": "ipython3",
   "version": "3.9.0"
  }
 },
 "nbformat": 4,
 "nbformat_minor": 5
}
