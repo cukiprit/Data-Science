{
 "cells": [
  {
   "cell_type": "markdown",
   "id": "9d92995c",
   "metadata": {},
   "source": [
    "Booleans in Python work as in most other programming languages, except that they're capitalized"
   ]
  },
  {
   "cell_type": "code",
   "execution_count": 1,
   "id": "28970274",
   "metadata": {},
   "outputs": [
    {
     "name": "stdout",
     "output_type": "stream",
     "text": [
      "True\n",
      "False\n"
     ]
    }
   ],
   "source": [
    "one_is_less_than_two = 1 < 2\n",
    "true_equals_false = True == False\n",
    "\n",
    "print(one_is_less_than_two)\n",
    "print(true_equals_false)"
   ]
  },
  {
   "cell_type": "markdown",
   "id": "db319aef",
   "metadata": {},
   "source": [
    "Python uses the value None to indicate a nonexistent value. It's similar to other languages null"
   ]
  },
  {
   "cell_type": "code",
   "execution_count": null,
   "id": "a6a56c0b",
   "metadata": {},
   "outputs": [],
   "source": [
    "x = None\n",
    "assert x == None, \"this is not the Pythonic way to check for None\"\n",
    "assert x is None, \"this is the Pythonic way to check for None\""
   ]
  },
  {
   "cell_type": "markdown",
   "id": "39ac318f",
   "metadata": {},
   "source": [
    "Python let us use any value where it expects a Boolean. The following are all \"falsy\":\n",
    "- False\n",
    "- None\n",
    "- [] (an empty list)\n",
    "- {} (an empty dict)\n",
    "- \"\"\n",
    "- set()\n",
    "- 0\n",
    "- 0.0\n",
    "\n",
    "Pretty much anything else gets treated as True. This allow us to easily use if statements to test for empty list, empty strings, empty dictionaries, and so on. It also sometimes causes tricky bugs if we're not expecting this behavior"
   ]
  },
  {
   "cell_type": "code",
   "execution_count": 5,
   "id": "16268c7f",
   "metadata": {},
   "outputs": [
    {
     "name": "stdout",
     "output_type": "stream",
     "text": [
      "a\n"
     ]
    }
   ],
   "source": [
    "def func_str(x):\n",
    "    return f\"{x}\"\n",
    "\n",
    "s = func_str(\"ajg\")\n",
    "\n",
    "if s:\n",
    "    first_char = s[0]\n",
    "else:\n",
    "    first_char = \"\"\n",
    "    \n",
    "print(first_char)"
   ]
  },
  {
   "cell_type": "markdown",
   "id": "5873ef6d",
   "metadata": {},
   "source": [
    "A shorter but more confusing way to achieve the same thing"
   ]
  },
  {
   "cell_type": "code",
   "execution_count": 6,
   "id": "a8644310",
   "metadata": {},
   "outputs": [
    {
     "data": {
      "text/plain": [
       "'a'"
      ]
     },
     "execution_count": 6,
     "metadata": {},
     "output_type": "execute_result"
    }
   ],
   "source": [
    "first_char = s and s[0]\n",
    "\n",
    "first_char"
   ]
  },
  {
   "cell_type": "markdown",
   "id": "18ef8bb4",
   "metadata": {},
   "source": [
    "Since and returns its second value when the first \"truthy\", and the first value when it's not. Similarly if x is either a number or possibly None"
   ]
  },
  {
   "cell_type": "code",
   "execution_count": 8,
   "id": "ddd7105b",
   "metadata": {},
   "outputs": [
    {
     "name": "stdout",
     "output_type": "stream",
     "text": [
      "2\n"
     ]
    }
   ],
   "source": [
    "x = 2\n",
    "safe_x = x or 0\n",
    "\n",
    "print(safe_x)"
   ]
  },
  {
   "cell_type": "markdown",
   "id": "d6cf6b50",
   "metadata": {},
   "source": [
    "Is definitely a number, although"
   ]
  },
  {
   "cell_type": "code",
   "execution_count": 9,
   "id": "bfd36012",
   "metadata": {},
   "outputs": [
    {
     "name": "stdout",
     "output_type": "stream",
     "text": [
      "2\n"
     ]
    }
   ],
   "source": [
    "safe_x = x if x is not None else 0\n",
    "\n",
    "print(safe_x)"
   ]
  },
  {
   "cell_type": "markdown",
   "id": "92d94875",
   "metadata": {},
   "source": [
    "Python has an all function, which takes an iterable and returns True precisely when every element is truthy, and an any functions, which returns True when at least one element is truthy"
   ]
  },
  {
   "cell_type": "code",
   "execution_count": 10,
   "id": "2d2e60b9",
   "metadata": {},
   "outputs": [
    {
     "name": "stdout",
     "output_type": "stream",
     "text": [
      "True\n",
      "False\n",
      "True\n",
      "True\n",
      "False\n"
     ]
    }
   ],
   "source": [
    "print(all([True, 1, {3}])) # True, all are truthy\n",
    "print(all([True, 1, {}])) # False, {} is falsy\n",
    "print(any([True, 1, {}])) # True, True is truthy\n",
    "print(all([])) # True, no falsy elements in the list\n",
    "print(any([])) # False, no truthy elements in the list"
   ]
  }
 ],
 "metadata": {
  "kernelspec": {
   "display_name": "Python 3",
   "language": "python",
   "name": "python3"
  },
  "language_info": {
   "codemirror_mode": {
    "name": "ipython",
    "version": 3
   },
   "file_extension": ".py",
   "mimetype": "text/x-python",
   "name": "python",
   "nbconvert_exporter": "python",
   "pygments_lexer": "ipython3",
   "version": "3.9.0"
  }
 },
 "nbformat": 4,
 "nbformat_minor": 5
}
